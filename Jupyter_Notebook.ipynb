{
  "metadata": {
    "kernelspec": {
      "name": "python",
      "display_name": "Pyolite",
      "language": "python"
    },
    "language_info": {
      "codemirror_mode": {
        "name": "python",
        "version": 3
      },
      "file_extension": ".py",
      "mimetype": "text/x-python",
      "name": "python",
      "nbconvert_exporter": "python",
      "pygments_lexer": "ipython3",
      "version": "3.8"
    }
  },
  "nbformat_minor": 4,
  "nbformat": 4,
  "cells": [
    {
      "cell_type": "markdown",
      "source": "<center>\n    <img src=\"https://cf-courses-data.s3.us.cloud-object-storage.appdomain.cloud/IBMDeveloperSkillsNetwork-DS0105EN-SkillsNetwork/labs/Module2/images/SN_web_lightmode.png\" width=\"300\" alt=\"cognitiveclass.ai logo\">\n</center>\n",
      "metadata": {}
    },
    {
      "cell_type": "markdown",
      "source": "### Create a markdown cell with the title of the notebook.",
      "metadata": {
        "tags": []
      }
    },
    {
      "cell_type": "markdown",
      "source": "# Tools for Data Science final assignment",
      "metadata": {
        "tags": []
      }
    },
    {
      "cell_type": "markdown",
      "source": "# Tools for Data Science final assignment",
      "metadata": {
        "tags": []
      }
    },
    {
      "cell_type": "markdown",
      "source": "### Create a markdown cell for an introduction.",
      "metadata": {}
    },
    {
      "cell_type": "markdown",
      "source": "## this is my introduction.",
      "metadata": {}
    },
    {
      "cell_type": "markdown",
      "source": "## this is my introduction.",
      "metadata": {}
    },
    {
      "cell_type": "markdown",
      "source": "###  Create a markdown cell to list data science languages.",
      "metadata": {}
    },
    {
      "cell_type": "markdown",
      "source": "- Python\n- R\n- SQL\n- Java\n- Julia",
      "metadata": {}
    },
    {
      "cell_type": "markdown",
      "source": "- Python\n- R\n- SQL\n- Java\n- Julia",
      "metadata": {}
    },
    {
      "cell_type": "markdown",
      "source": "###  Create a markdown cell to list data science libraries.",
      "metadata": {}
    },
    {
      "cell_type": "markdown",
      "source": "- Pandas\n- NumPy\n- SciPy\n- Matplotlib\n- Scikit-learn\n- TensorFlow\n- PyTorch",
      "metadata": {}
    },
    {
      "cell_type": "markdown",
      "source": "- Pandas\n- NumPy\n- SciPy\n- Matplotlib\n- Scikit-learn\n- TensorFlow\n- PyTorch",
      "metadata": {}
    },
    {
      "cell_type": "markdown",
      "source": "###  Create a markdown cell with a table of Data Science tools.",
      "metadata": {}
    },
    {
      "cell_type": "markdown",
      "source": "| Tool Name | Type |\n| -------------| ------ |\n| Python | programming language |\n| TensorFlow | library |\n| Jupyter Notebook | web-based interactive environment |",
      "metadata": {}
    },
    {
      "cell_type": "markdown",
      "source": "| Tool Name | Type |\n| -------------| ------ |\n| Python | programming language |\n| TensorFlow | library |\n| Jupyter Notebook | web-based interactive environment |",
      "metadata": {}
    },
    {
      "cell_type": "markdown",
      "source": "###  Create a markdown cell introducing arithmetic expression examples.",
      "metadata": {}
    },
    {
      "cell_type": "markdown",
      "source": "2 + 2 = 4",
      "metadata": {
        "tags": []
      }
    },
    {
      "cell_type": "markdown",
      "source": "2 + 2 = 4",
      "metadata": {
        "tags": []
      }
    },
    {
      "cell_type": "markdown",
      "source": "###  Create a code cell to multiply and add numbers.",
      "metadata": {}
    },
    {
      "cell_type": "code",
      "source": "3*3+2",
      "metadata": {
        "tags": []
      },
      "execution_count": 5,
      "outputs": [
        {
          "execution_count": 5,
          "output_type": "execute_result",
          "data": {
            "text/plain": [
              "11"
            ]
          },
          "metadata": {}
        }
      ]
    },
    {
      "cell_type": "markdown",
      "source": "###  Create a code cell to convert minutes to hours.",
      "metadata": {}
    },
    {
      "cell_type": "code",
      "source": "120/60",
      "metadata": {
        "tags": []
      },
      "execution_count": 6,
      "outputs": [
        {
          "execution_count": 6,
          "output_type": "execute_result",
          "data": {
            "text/plain": [
              "2.0"
            ]
          },
          "metadata": {}
        }
      ]
    },
    {
      "cell_type": "markdown",
      "source": "###  Insert a markdown cell to list Objectives.",
      "metadata": {}
    },
    {
      "cell_type": "markdown",
      "source": "# Objectives\n\n* Learn how to convert minutes to hours.\n* Write a Python function to convert minutes to hours.\n* Run the Python function and print the output.",
      "metadata": {}
    },
    {
      "cell_type": "markdown",
      "source": "# Objectives\n\n* Learn how to convert minutes to hours.\n* Write a Python function to convert minutes to hours.\n* Run the Python function and print the output.",
      "metadata": {}
    },
    {
      "cell_type": "markdown",
      "source": "###  Create a markdown cell to indicate the Author’s name.",
      "metadata": {}
    },
    {
      "cell_type": "markdown",
      "source": "## Author",
      "metadata": {}
    },
    {
      "cell_type": "markdown",
      "source": "## Author",
      "metadata": {}
    }
  ]
}